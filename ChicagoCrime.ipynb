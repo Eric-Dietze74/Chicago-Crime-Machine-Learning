{
 "cells": [
  {
   "cell_type": "markdown",
   "id": "9135acf7",
   "metadata": {},
   "source": [
    "# Using Machine Learning to predict certain crimes like Motor Vehicle Theft"
   ]
  },
  {
   "cell_type": "markdown",
   "id": "d171e960",
   "metadata": {},
   "source": [
    "### Part 1: Introduction and the data set"
   ]
  },
  {
   "cell_type": "markdown",
   "id": "60457c10",
   "metadata": {},
   "source": [
    "Large datasets provide the advantage of exploring trends, correlations and patterns. Utilizing machine learning allows analysts and decision makers to go beyond human intuition and regular data analysis.\n",
    "\n",
    "British economist Ronald Coase once said, \"If you torture the data long enough, it will confess to anything.\" It's critical to know how to correctly handle and wrangle our data so that it doesn't give us incorrect results that align with our previously held biases or are just entirely incorrect. Knowing what methods to use and what methods to avoid is just as important as being able to run the code that makes up Machine Learning and other Artificial intelligence algorithms. \n",
    "\n",
    "For this project I will try to use XGBoost and a large dataset to predict a specific type of crime (car jackings) based on the information that comes in when reported. Labeled as \"The King of Machine Learning Algorithms\" (https://medium.com/latinxinai/xgboost-the-king-of-machine-learning-algorithms-6b5c0d4acd87) by some, XGBoost is used across a variety of industries and has performed extremely well at Machine Learning Competitions.   \n",
    "    \n",
    "The motivation behind this project is multifaceted. Being able to leverage data to predict crimes has various benefits. Various industries such as law enforcement, insurance, and real estate have a stake in knowing when and where car jackings will happen. Additionally, I think exploring topics just to know is important. The curious side of me is also just interested in seeing what the relationship between all these variables is. Knowing just to know. Solving problems for the sake of solving problems. "
   ]
  },
  {
   "cell_type": "code",
   "execution_count": 1,
   "id": "f6ee9415",
   "metadata": {},
   "outputs": [],
   "source": [
    "import pandas as pd\n",
    "from datetime import datetime\n",
    "import xgboost as xgb\n",
    "from sklearn.model_selection import train_test_split\n",
    "from sklearn.metrics import classification_report, accuracy_score\n",
    "import seaborn as sns\n",
    "import matplotlib.pyplot as plt\n",
    "import numpy as np"
   ]
  },
  {
   "cell_type": "code",
   "execution_count": 2,
   "id": "b9a3b150",
   "metadata": {},
   "outputs": [],
   "source": [
    "# Data was taken from a Chicago Crime Data Base \n",
    "ChicagoCrime_df = pd.read_csv(\"ChicagoCrime.csv\")"
   ]
  },
  {
   "cell_type": "markdown",
   "id": "39859305",
   "metadata": {},
   "source": [
    "Link to data: https://data.cityofchicago.org/Public-Safety/Crimes-2024/dqcy-ctma/about_data\n",
    "\n",
    "The data comes from the City of Chicago data portal. "
   ]
  },
  {
   "cell_type": "code",
   "execution_count": 3,
   "id": "47cac3c9",
   "metadata": {},
   "outputs": [
    {
     "data": {
      "text/html": [
       "<div>\n",
       "<style scoped>\n",
       "    .dataframe tbody tr th:only-of-type {\n",
       "        vertical-align: middle;\n",
       "    }\n",
       "\n",
       "    .dataframe tbody tr th {\n",
       "        vertical-align: top;\n",
       "    }\n",
       "\n",
       "    .dataframe thead th {\n",
       "        text-align: right;\n",
       "    }\n",
       "</style>\n",
       "<table border=\"1\" class=\"dataframe\">\n",
       "  <thead>\n",
       "    <tr style=\"text-align: right;\">\n",
       "      <th></th>\n",
       "      <th>ID</th>\n",
       "      <th>Case Number</th>\n",
       "      <th>Date</th>\n",
       "      <th>Block</th>\n",
       "      <th>IUCR</th>\n",
       "      <th>Primary Type</th>\n",
       "      <th>Description</th>\n",
       "      <th>Location Description</th>\n",
       "      <th>Arrest</th>\n",
       "      <th>Domestic</th>\n",
       "      <th>...</th>\n",
       "      <th>Ward</th>\n",
       "      <th>Community Area</th>\n",
       "      <th>FBI Code</th>\n",
       "      <th>X Coordinate</th>\n",
       "      <th>Y Coordinate</th>\n",
       "      <th>Year</th>\n",
       "      <th>Updated On</th>\n",
       "      <th>Latitude</th>\n",
       "      <th>Longitude</th>\n",
       "      <th>Location</th>\n",
       "    </tr>\n",
       "  </thead>\n",
       "  <tbody>\n",
       "    <tr>\n",
       "      <th>0</th>\n",
       "      <td>13663524</td>\n",
       "      <td>JH507759</td>\n",
       "      <td>11/12/2024 0:00</td>\n",
       "      <td>080XX S INGLESIDE AVE</td>\n",
       "      <td>1153</td>\n",
       "      <td>DECEPTIVE PRACTICE</td>\n",
       "      <td>FINANCIAL IDENTITY THEFT OVER $ 300</td>\n",
       "      <td>APARTMENT</td>\n",
       "      <td>False</td>\n",
       "      <td>False</td>\n",
       "      <td>...</td>\n",
       "      <td>8</td>\n",
       "      <td>44.0</td>\n",
       "      <td>11</td>\n",
       "      <td>1183958.0</td>\n",
       "      <td>1851936.0</td>\n",
       "      <td>2024</td>\n",
       "      <td>11/19/2024 15:40</td>\n",
       "      <td>41.748890</td>\n",
       "      <td>-87.601479</td>\n",
       "      <td>POINT (-87.601479486 41.748890402)</td>\n",
       "    </tr>\n",
       "    <tr>\n",
       "      <th>1</th>\n",
       "      <td>13660961</td>\n",
       "      <td>JH504722</td>\n",
       "      <td>11/12/2024 0:00</td>\n",
       "      <td>081XX S DAMEN AVE</td>\n",
       "      <td>1320</td>\n",
       "      <td>CRIMINAL DAMAGE</td>\n",
       "      <td>TO VEHICLE</td>\n",
       "      <td>STREET</td>\n",
       "      <td>False</td>\n",
       "      <td>False</td>\n",
       "      <td>...</td>\n",
       "      <td>17</td>\n",
       "      <td>71.0</td>\n",
       "      <td>14</td>\n",
       "      <td>1164440.0</td>\n",
       "      <td>1850774.0</td>\n",
       "      <td>2024</td>\n",
       "      <td>11/19/2024 15:40</td>\n",
       "      <td>41.746135</td>\n",
       "      <td>-87.673033</td>\n",
       "      <td>POINT (-87.673033382 41.74613501)</td>\n",
       "    </tr>\n",
       "    <tr>\n",
       "      <th>2</th>\n",
       "      <td>13661941</td>\n",
       "      <td>JH505855</td>\n",
       "      <td>11/12/2024 0:00</td>\n",
       "      <td>067XX S RACINE AVE</td>\n",
       "      <td>1240</td>\n",
       "      <td>DECEPTIVE PRACTICE</td>\n",
       "      <td>UNLAWFUL USE OF A COMPUTER</td>\n",
       "      <td>RESIDENCE</td>\n",
       "      <td>False</td>\n",
       "      <td>False</td>\n",
       "      <td>...</td>\n",
       "      <td>17</td>\n",
       "      <td>67.0</td>\n",
       "      <td>11</td>\n",
       "      <td>1169483.0</td>\n",
       "      <td>1860039.0</td>\n",
       "      <td>2024</td>\n",
       "      <td>11/19/2024 15:40</td>\n",
       "      <td>41.771452</td>\n",
       "      <td>-87.654287</td>\n",
       "      <td>POINT (-87.654286742 41.771451704)</td>\n",
       "    </tr>\n",
       "    <tr>\n",
       "      <th>3</th>\n",
       "      <td>13662947</td>\n",
       "      <td>JH506460</td>\n",
       "      <td>11/12/2024 0:00</td>\n",
       "      <td>070XX W NEWPORT AVE</td>\n",
       "      <td>710</td>\n",
       "      <td>THEFT</td>\n",
       "      <td>THEFT FROM MOTOR VEHICLE</td>\n",
       "      <td>STREET</td>\n",
       "      <td>False</td>\n",
       "      <td>False</td>\n",
       "      <td>...</td>\n",
       "      <td>38</td>\n",
       "      <td>17.0</td>\n",
       "      <td>6</td>\n",
       "      <td>1128844.0</td>\n",
       "      <td>1922130.0</td>\n",
       "      <td>2024</td>\n",
       "      <td>11/19/2024 15:40</td>\n",
       "      <td>41.942623</td>\n",
       "      <td>-87.801850</td>\n",
       "      <td>POINT (-87.801849533 41.942623178)</td>\n",
       "    </tr>\n",
       "    <tr>\n",
       "      <th>4</th>\n",
       "      <td>13661778</td>\n",
       "      <td>JH505700</td>\n",
       "      <td>11/12/2024 0:00</td>\n",
       "      <td>022XX N ELSTON AVE</td>\n",
       "      <td>1320</td>\n",
       "      <td>CRIMINAL DAMAGE</td>\n",
       "      <td>TO VEHICLE</td>\n",
       "      <td>STREET</td>\n",
       "      <td>False</td>\n",
       "      <td>False</td>\n",
       "      <td>...</td>\n",
       "      <td>32</td>\n",
       "      <td>22.0</td>\n",
       "      <td>14</td>\n",
       "      <td>1163656.0</td>\n",
       "      <td>1915119.0</td>\n",
       "      <td>2024</td>\n",
       "      <td>11/19/2024 15:40</td>\n",
       "      <td>41.922721</td>\n",
       "      <td>-87.674097</td>\n",
       "      <td>POINT (-87.674096681 41.922720997)</td>\n",
       "    </tr>\n",
       "  </tbody>\n",
       "</table>\n",
       "<p>5 rows × 22 columns</p>\n",
       "</div>"
      ],
      "text/plain": [
       "         ID Case Number             Date                  Block  IUCR  \\\n",
       "0  13663524    JH507759  11/12/2024 0:00  080XX S INGLESIDE AVE  1153   \n",
       "1  13660961    JH504722  11/12/2024 0:00      081XX S DAMEN AVE  1320   \n",
       "2  13661941    JH505855  11/12/2024 0:00     067XX S RACINE AVE  1240   \n",
       "3  13662947    JH506460  11/12/2024 0:00    070XX W NEWPORT AVE   710   \n",
       "4  13661778    JH505700  11/12/2024 0:00     022XX N ELSTON AVE  1320   \n",
       "\n",
       "         Primary Type                          Description  \\\n",
       "0  DECEPTIVE PRACTICE  FINANCIAL IDENTITY THEFT OVER $ 300   \n",
       "1     CRIMINAL DAMAGE                           TO VEHICLE   \n",
       "2  DECEPTIVE PRACTICE           UNLAWFUL USE OF A COMPUTER   \n",
       "3               THEFT             THEFT FROM MOTOR VEHICLE   \n",
       "4     CRIMINAL DAMAGE                           TO VEHICLE   \n",
       "\n",
       "  Location Description  Arrest  Domestic  ...  Ward  Community Area  FBI Code  \\\n",
       "0            APARTMENT   False     False  ...     8            44.0        11   \n",
       "1               STREET   False     False  ...    17            71.0        14   \n",
       "2            RESIDENCE   False     False  ...    17            67.0        11   \n",
       "3               STREET   False     False  ...    38            17.0         6   \n",
       "4               STREET   False     False  ...    32            22.0        14   \n",
       "\n",
       "   X Coordinate Y Coordinate  Year        Updated On   Latitude  Longitude  \\\n",
       "0     1183958.0    1851936.0  2024  11/19/2024 15:40  41.748890 -87.601479   \n",
       "1     1164440.0    1850774.0  2024  11/19/2024 15:40  41.746135 -87.673033   \n",
       "2     1169483.0    1860039.0  2024  11/19/2024 15:40  41.771452 -87.654287   \n",
       "3     1128844.0    1922130.0  2024  11/19/2024 15:40  41.942623 -87.801850   \n",
       "4     1163656.0    1915119.0  2024  11/19/2024 15:40  41.922721 -87.674097   \n",
       "\n",
       "                             Location  \n",
       "0  POINT (-87.601479486 41.748890402)  \n",
       "1   POINT (-87.673033382 41.74613501)  \n",
       "2  POINT (-87.654286742 41.771451704)  \n",
       "3  POINT (-87.801849533 41.942623178)  \n",
       "4  POINT (-87.674096681 41.922720997)  \n",
       "\n",
       "[5 rows x 22 columns]"
      ]
     },
     "execution_count": 3,
     "metadata": {},
     "output_type": "execute_result"
    }
   ],
   "source": [
    "ChicagoCrime_df.head()"
   ]
  },
  {
   "cell_type": "markdown",
   "id": "33732066",
   "metadata": {},
   "source": [
    "### Part 2: Data Wrangling"
   ]
  },
  {
   "cell_type": "markdown",
   "id": "dc034b7b",
   "metadata": {},
   "source": [
    "Our data set has plenty of useful variables that can't be used by XGBoost. The \"Date\" Column will need to be transformed into several different variables such as \"Month\", \"Day of Week\" or \"WeekDay\" and \"hour\". XGBoost can't parse categorical variables, so we'll need to turn any useful variables like \"location description\" into usable numerical values. Additional changes to future iterations include adding in certain information about each zip code will be valuable as well. For example, each zip codes historical crime rates and zoning."
   ]
  },
  {
   "cell_type": "code",
   "execution_count": 4,
   "id": "d9aa11bd",
   "metadata": {},
   "outputs": [],
   "source": [
    "#Adding in the Month column using the already existing Date column \n",
    "ChicagoCrime_df[\"Month\"] = ChicagoCrime_df['Date'].str.split('/').str[0]"
   ]
  },
  {
   "cell_type": "code",
   "execution_count": 5,
   "id": "9a7b08b8",
   "metadata": {},
   "outputs": [],
   "source": [
    "def get_day_of_week(date_str):\n",
    "    \"\"\"\n",
    "    Converts a date string into the day of the week.\n",
    "\n",
    "    Args:\n",
    "        date_str (str): Date string in the format 'MM/DD/YYYY' or similar.\n",
    "        \n",
    "    Returns:\n",
    "        str: Day of the week abbreviation ('mon', 'tues', etc).\n",
    "    \"\"\"\n",
    "    # Parse the input date string\n",
    "    date_obj = datetime.strptime(date_str, '%m/%d/%Y')\n",
    "    \n",
    "    # Get the day of the week and return the abbreviation\n",
    "    return date_obj.strftime('%a').lower()"
   ]
  },
  {
   "cell_type": "code",
   "execution_count": 6,
   "id": "c4370c56",
   "metadata": {},
   "outputs": [],
   "source": [
    "#Using the \"get_day_of_week\" function to convert the Date column to be a day of the week abbreviation\n",
    "\n",
    "#Prepare variable to be used by function \n",
    "ChicagoCrime_df['WeekDay'] = ChicagoCrime_df['Date'].str.split(' ').str[0]\n",
    "\n",
    "#Apply function \n",
    "ChicagoCrime_df['WeekDay'] = ChicagoCrime_df['WeekDay'].apply(lambda x: get_day_of_week(x))"
   ]
  },
  {
   "cell_type": "code",
   "execution_count": 7,
   "id": "c364ce6e",
   "metadata": {},
   "outputs": [
    {
     "data": {
      "text/plain": [
       "0    tue\n",
       "1    tue\n",
       "2    tue\n",
       "3    tue\n",
       "4    tue\n",
       "5    tue\n",
       "Name: WeekDay, dtype: object"
      ]
     },
     "execution_count": 7,
     "metadata": {},
     "output_type": "execute_result"
    }
   ],
   "source": [
    "ChicagoCrime_df['WeekDay'][:6]"
   ]
  },
  {
   "cell_type": "code",
   "execution_count": 8,
   "id": "4f1e1878",
   "metadata": {},
   "outputs": [],
   "source": [
    "def weekday_to_numeric(day):\n",
    "    \"\"\"\n",
    "    Converts a weekday name ('mon', 'tue', 'wed', etc.) to a numeric value (0, 1, 2, etc.).\n",
    "    \n",
    "    Args:\n",
    "        day (str): Weekday name as a string ('mon', 'tue', 'wed', etc.).\n",
    "        \n",
    "    Returns:\n",
    "        int: Corresponding numeric value (0 for 'mon', 1 for 'tue', etc.).\n",
    "    \"\"\"\n",
    "    # Dictionary mapping weekdays to numbers\n",
    "    weekday_map = {\n",
    "        'mon': 0,\n",
    "        'tue': 1,\n",
    "        'wed': 2,\n",
    "        'thu': 3,\n",
    "        'fri': 4,\n",
    "        'sat': 5,\n",
    "        'sun': 6\n",
    "    }\n",
    "    \n",
    "    # Return the corresponding numeric value or raise an error if invalid day\n",
    "    return weekday_map.get(day.lower(), -1)  # Returns -1 if the input is invalid"
   ]
  },
  {
   "cell_type": "code",
   "execution_count": 9,
   "id": "091a307c",
   "metadata": {},
   "outputs": [],
   "source": [
    "#Converting the \"WeekDay\" variable to be a numerical value \n",
    "ChicagoCrime_df['WeekDay'] = ChicagoCrime_df['WeekDay'].apply(lambda x: weekday_to_numeric(x))"
   ]
  },
  {
   "cell_type": "markdown",
   "id": "eac77805",
   "metadata": {},
   "source": [
    "Some crimes may be more likely to happen at certain times of the day. Creating a separate variable that lists the hour an incident takes place at may be able to provide useful information for our model. "
   ]
  },
  {
   "cell_type": "code",
   "execution_count": 10,
   "id": "7961a3de",
   "metadata": {},
   "outputs": [],
   "source": [
    "ChicagoCrime_df[\"Hour\"] = ChicagoCrime_df['Date'].str.split(' ').str[1].str.split(\":\").str[0].astype(float)"
   ]
  },
  {
   "cell_type": "markdown",
   "id": "e9d7999b",
   "metadata": {},
   "source": [
    "The cover of night/darkness may correlate to the frequency of certain crimes. Because the sunset and sunrise changes based on the time of the year, another data with Chicago sunset and sunrise information will be merged to our crime data. \n",
    "\n",
    "The ChicagoNights.csv is a customized data set from a larger dataset that can be found at: https://www.timeanddate.com/sun/usa/chicago. It gives each relevant day of the year (up to November 30th as the crime data set does not include December 2024) and at what time the night ends and starts.  "
   ]
  },
  {
   "cell_type": "code",
   "execution_count": 11,
   "id": "6c97434c",
   "metadata": {},
   "outputs": [],
   "source": [
    "ChicagoNights_df = pd.read_csv(\"ChicagoNights.csv\")"
   ]
  },
  {
   "cell_type": "code",
   "execution_count": 12,
   "id": "aafc8800",
   "metadata": {},
   "outputs": [
    {
     "data": {
      "text/html": [
       "<div>\n",
       "<style scoped>\n",
       "    .dataframe tbody tr th:only-of-type {\n",
       "        vertical-align: middle;\n",
       "    }\n",
       "\n",
       "    .dataframe tbody tr th {\n",
       "        vertical-align: top;\n",
       "    }\n",
       "\n",
       "    .dataframe thead th {\n",
       "        text-align: right;\n",
       "    }\n",
       "</style>\n",
       "<table border=\"1\" class=\"dataframe\">\n",
       "  <thead>\n",
       "    <tr style=\"text-align: right;\">\n",
       "      <th></th>\n",
       "      <th>Date</th>\n",
       "      <th>Month</th>\n",
       "      <th>Day</th>\n",
       "      <th>End of Night</th>\n",
       "      <th>Start of Night</th>\n",
       "    </tr>\n",
       "  </thead>\n",
       "  <tbody>\n",
       "    <tr>\n",
       "      <th>0</th>\n",
       "      <td>1</td>\n",
       "      <td>January</td>\n",
       "      <td>1/1/2024</td>\n",
       "      <td>1/1/2024 6:11</td>\n",
       "      <td>1/1/2024 17:36</td>\n",
       "    </tr>\n",
       "    <tr>\n",
       "      <th>1</th>\n",
       "      <td>2</td>\n",
       "      <td>January</td>\n",
       "      <td>1/2/2024</td>\n",
       "      <td>1/2/2024 6:11</td>\n",
       "      <td>1/2/2024 17:37</td>\n",
       "    </tr>\n",
       "    <tr>\n",
       "      <th>2</th>\n",
       "      <td>3</td>\n",
       "      <td>January</td>\n",
       "      <td>1/3/2024</td>\n",
       "      <td>1/3/2024 6:11</td>\n",
       "      <td>1/3/2024 17:38</td>\n",
       "    </tr>\n",
       "    <tr>\n",
       "      <th>3</th>\n",
       "      <td>4</td>\n",
       "      <td>January</td>\n",
       "      <td>1/4/2024</td>\n",
       "      <td>1/4/2024 6:12</td>\n",
       "      <td>1/4/2024 17:38</td>\n",
       "    </tr>\n",
       "  </tbody>\n",
       "</table>\n",
       "</div>"
      ],
      "text/plain": [
       "   Date    Month       Day   End of Night  Start of Night\n",
       "0     1  January  1/1/2024  1/1/2024 6:11  1/1/2024 17:36\n",
       "1     2  January  1/2/2024  1/2/2024 6:11  1/2/2024 17:37\n",
       "2     3  January  1/3/2024  1/3/2024 6:11  1/3/2024 17:38\n",
       "3     4  January  1/4/2024  1/4/2024 6:12  1/4/2024 17:38"
      ]
     },
     "execution_count": 12,
     "metadata": {},
     "output_type": "execute_result"
    }
   ],
   "source": [
    "ChicagoNights_df.head(4)"
   ]
  },
  {
   "cell_type": "markdown",
   "id": "958f83c5",
   "metadata": {},
   "source": [
    "The ChicagoCrimes \"Date\" variable needs to be modified so it can merge with the ChicagoNights \"Day\" variable."
   ]
  },
  {
   "cell_type": "code",
   "execution_count": 13,
   "id": "1be1f9ee",
   "metadata": {},
   "outputs": [],
   "source": [
    "#Takes off the time component of the date/time variable\n",
    "ChicagoCrime_df['Day'] = ChicagoCrime_df['Date'].str.split(' ').str[0]"
   ]
  },
  {
   "cell_type": "code",
   "execution_count": 14,
   "id": "9760525a",
   "metadata": {},
   "outputs": [],
   "source": [
    "#Merging the data sets\n",
    "ChicagoCrime_df = pd.merge(ChicagoCrime_df, ChicagoNights_df, on='Day', how='left')"
   ]
  },
  {
   "cell_type": "markdown",
   "id": "1a55b623",
   "metadata": {},
   "source": [
    "Creating a new variable called \"Night\" that looks at whether or not the time of the incident occurs either before the end of night or after the start of night on a certain day. "
   ]
  },
  {
   "cell_type": "code",
   "execution_count": 15,
   "id": "cdfbf1bf",
   "metadata": {},
   "outputs": [],
   "source": [
    "ChicagoCrime_df[\"Night\"] = (pd.to_datetime(ChicagoCrime_df[\"Date_x\"]) <= pd.to_datetime(ChicagoCrime_df[\"End of Night\"])) | (pd.to_datetime(ChicagoCrime_df[\"Date_x\"]) >= pd.to_datetime(ChicagoCrime_df[\"Start of Night\"])) "
   ]
  },
  {
   "cell_type": "markdown",
   "id": "c27d26fb",
   "metadata": {},
   "source": [
    "The location variable gives insight into the location of the reported incident. There are currently 127 different locations in the dataset. Some of these locations like \"STREET\" or \"APARTMENT\" are incredibly common and should be converted to categorical variables to give our model more information. However, adding binary variables for all 127 location types would introduce many sparse features, which would increase noise and reduce model efficiency. Instead, I focused on the most frequent locations (over 10,000 incidents each). To identify the most common locations, I counted the frequency of each unique location description. "
   ]
  },
  {
   "cell_type": "code",
   "execution_count": 16,
   "id": "f89a3a0b",
   "metadata": {},
   "outputs": [],
   "source": [
    "#Creating a dictionary that counts all the different instances of when each variable is used\n",
    "Loc_dict = dict()\n",
    "for j in ChicagoCrime_df['Location Description']:\n",
    "    if j not in Loc_dict.keys():\n",
    "        Loc_dict[j] = 1\n",
    "    else: \n",
    "        Loc_dict[j] +=1"
   ]
  },
  {
   "cell_type": "code",
   "execution_count": 46,
   "id": "c1c36fe5",
   "metadata": {},
   "outputs": [
    {
     "data": {
      "text/plain": [
       "[('STREET', 61302),\n",
       " ('APARTMENT', 41986),\n",
       " ('RESIDENCE', 26251),\n",
       " ('SIDEWALK', 12361)]"
      ]
     },
     "execution_count": 46,
     "metadata": {},
     "output_type": "execute_result"
    }
   ],
   "source": [
    "#Sorting the Dictionary in Sorting Value\n",
    "Loc_dict_sorted =sorted(Loc_dict.items(), key=lambda x: x[1], reverse = True)\n",
    "\n",
    "#Only 4 Location Descriptions Occur Over 10,000 times\n",
    "Loc_dict_sorted[:4]"
   ]
  },
  {
   "cell_type": "code",
   "execution_count": 18,
   "id": "f9735aea",
   "metadata": {},
   "outputs": [],
   "source": [
    "#Creating a boolean column for each of the most common location types\n",
    "\n",
    "ChicagoCrime_df[\"Street Location\"] = ChicagoCrime_df[\"Location Description\"] == \"STREET\"\n",
    "ChicagoCrime_df[\"Apartment Location\"] = ChicagoCrime_df[\"Location Description\"] == \"APARTMENT\"\n",
    "ChicagoCrime_df[\"Residence Location\"] = ChicagoCrime_df[\"Location Description\"] == \"RESIDENCE\"\n",
    "ChicagoCrime_df[\"Sidewalk Location\"] = ChicagoCrime_df[\"Location Description\"] == \"SIDEWALK\""
   ]
  },
  {
   "cell_type": "markdown",
   "id": "5bf0c48b",
   "metadata": {},
   "source": [
    "We'll create a Data Frame that includes only our relevant variables. Certain variables, such as incident codes or text descriptions, are highly detailed and not easily usable in a predictive model without advanced preprocessing. For this iteration, I excluded them but noted for potential future exploration. \n",
    "\n",
    "I prepared the dataset for modeling by ensuring categorical and non-numerical variables were properly converted into numerical formats. "
   ]
  },
  {
   "cell_type": "code",
   "execution_count": 19,
   "id": "ea48b431",
   "metadata": {},
   "outputs": [],
   "source": [
    "Crime_Variables = ChicagoCrime_df[[\"Ward\",\"Month_x\",\"WeekDay\", \"Hour\", \"Night\", \"Street Location\", \"Apartment Location\",'Residence Location', 'Sidewalk Location', 'Primary Type']].copy()"
   ]
  },
  {
   "cell_type": "code",
   "execution_count": 20,
   "id": "4d33a2a8",
   "metadata": {},
   "outputs": [
    {
     "data": {
      "text/html": [
       "<div>\n",
       "<style scoped>\n",
       "    .dataframe tbody tr th:only-of-type {\n",
       "        vertical-align: middle;\n",
       "    }\n",
       "\n",
       "    .dataframe tbody tr th {\n",
       "        vertical-align: top;\n",
       "    }\n",
       "\n",
       "    .dataframe thead th {\n",
       "        text-align: right;\n",
       "    }\n",
       "</style>\n",
       "<table border=\"1\" class=\"dataframe\">\n",
       "  <thead>\n",
       "    <tr style=\"text-align: right;\">\n",
       "      <th></th>\n",
       "      <th>Ward</th>\n",
       "      <th>Month_x</th>\n",
       "      <th>WeekDay</th>\n",
       "      <th>Hour</th>\n",
       "      <th>Night</th>\n",
       "      <th>Street Location</th>\n",
       "      <th>Apartment Location</th>\n",
       "      <th>Residence Location</th>\n",
       "      <th>Sidewalk Location</th>\n",
       "      <th>Primary Type</th>\n",
       "    </tr>\n",
       "  </thead>\n",
       "  <tbody>\n",
       "    <tr>\n",
       "      <th>0</th>\n",
       "      <td>8</td>\n",
       "      <td>11</td>\n",
       "      <td>1</td>\n",
       "      <td>0.0</td>\n",
       "      <td>True</td>\n",
       "      <td>False</td>\n",
       "      <td>True</td>\n",
       "      <td>False</td>\n",
       "      <td>False</td>\n",
       "      <td>DECEPTIVE PRACTICE</td>\n",
       "    </tr>\n",
       "    <tr>\n",
       "      <th>1</th>\n",
       "      <td>17</td>\n",
       "      <td>11</td>\n",
       "      <td>1</td>\n",
       "      <td>0.0</td>\n",
       "      <td>True</td>\n",
       "      <td>True</td>\n",
       "      <td>False</td>\n",
       "      <td>False</td>\n",
       "      <td>False</td>\n",
       "      <td>CRIMINAL DAMAGE</td>\n",
       "    </tr>\n",
       "    <tr>\n",
       "      <th>2</th>\n",
       "      <td>17</td>\n",
       "      <td>11</td>\n",
       "      <td>1</td>\n",
       "      <td>0.0</td>\n",
       "      <td>True</td>\n",
       "      <td>False</td>\n",
       "      <td>False</td>\n",
       "      <td>True</td>\n",
       "      <td>False</td>\n",
       "      <td>DECEPTIVE PRACTICE</td>\n",
       "    </tr>\n",
       "    <tr>\n",
       "      <th>3</th>\n",
       "      <td>38</td>\n",
       "      <td>11</td>\n",
       "      <td>1</td>\n",
       "      <td>0.0</td>\n",
       "      <td>True</td>\n",
       "      <td>True</td>\n",
       "      <td>False</td>\n",
       "      <td>False</td>\n",
       "      <td>False</td>\n",
       "      <td>THEFT</td>\n",
       "    </tr>\n",
       "    <tr>\n",
       "      <th>4</th>\n",
       "      <td>32</td>\n",
       "      <td>11</td>\n",
       "      <td>1</td>\n",
       "      <td>0.0</td>\n",
       "      <td>True</td>\n",
       "      <td>True</td>\n",
       "      <td>False</td>\n",
       "      <td>False</td>\n",
       "      <td>False</td>\n",
       "      <td>CRIMINAL DAMAGE</td>\n",
       "    </tr>\n",
       "  </tbody>\n",
       "</table>\n",
       "</div>"
      ],
      "text/plain": [
       "   Ward Month_x  WeekDay  Hour  Night  Street Location  Apartment Location  \\\n",
       "0     8      11        1   0.0   True            False                True   \n",
       "1    17      11        1   0.0   True             True               False   \n",
       "2    17      11        1   0.0   True            False               False   \n",
       "3    38      11        1   0.0   True             True               False   \n",
       "4    32      11        1   0.0   True             True               False   \n",
       "\n",
       "   Residence Location  Sidewalk Location        Primary Type  \n",
       "0               False              False  DECEPTIVE PRACTICE  \n",
       "1               False              False     CRIMINAL DAMAGE  \n",
       "2                True              False  DECEPTIVE PRACTICE  \n",
       "3               False              False               THEFT  \n",
       "4               False              False     CRIMINAL DAMAGE  "
      ]
     },
     "execution_count": 20,
     "metadata": {},
     "output_type": "execute_result"
    }
   ],
   "source": [
    "Crime_Variables.head(5)"
   ]
  },
  {
   "cell_type": "markdown",
   "id": "f6b245f2",
   "metadata": {},
   "source": [
    "We still need to make sure these variables are in the right format. For example the month variable (which got it's name changed to \"month_x\" during the merge) is not in either float or integer format. So that will need to be changed. "
   ]
  },
  {
   "cell_type": "code",
   "execution_count": 21,
   "id": "069d0c33",
   "metadata": {},
   "outputs": [],
   "source": [
    "#Crime_Variables['Month'] = Crime_Variables['Month_x'].astype('int')\n",
    "Crime_Variables.loc[:, \"Month\"] = Crime_Variables['Month_x'].astype('int')"
   ]
  },
  {
   "cell_type": "markdown",
   "id": "8cc9e9a7",
   "metadata": {},
   "source": [
    "The primary type variable needs to be converted to a boolean variable that is TRUE when the Primary Type is \"Motor Vehicle Theft\" and FALSE for every other incident type/crime. Note that \"MVT\" stands for Motor Vehicle Theft. "
   ]
  },
  {
   "cell_type": "code",
   "execution_count": 22,
   "id": "13f128fa",
   "metadata": {},
   "outputs": [],
   "source": [
    "Crime_Variables[\"MVT\"] = Crime_Variables[\"Primary Type\"] == \"MOTOR VEHICLE THEFT\""
   ]
  },
  {
   "cell_type": "code",
   "execution_count": 23,
   "id": "3cbf1c8f",
   "metadata": {},
   "outputs": [],
   "source": [
    "#Dropping the \"Primary Type\" variable as it is not longer necessary \n",
    "Crime_Variables = Crime_Variables.drop([\"Month_x\", \"Primary Type\"], axis = 1)"
   ]
  },
  {
   "cell_type": "code",
   "execution_count": 24,
   "id": "b64525d5",
   "metadata": {},
   "outputs": [
    {
     "data": {
      "text/plain": [
       "'Only 8.55% of the dataset is a Motor Vehicle Theft'"
      ]
     },
     "execution_count": 24,
     "metadata": {},
     "output_type": "execute_result"
    }
   ],
   "source": [
    "pct_of_MVTs = round(sum(Crime_Variables[\"MVT\"])/len(Crime_Variables)*100,2)\n",
    "\n",
    "f\"Only {pct_of_MVTs}% of the dataset is a Motor Vehicle Theft\""
   ]
  },
  {
   "cell_type": "markdown",
   "id": "88b9341d",
   "metadata": {},
   "source": [
    "Although Motor Vehicle Theft makes up only 8.55% of the dataset, XGBoost is good at handling inbalanced data sets. "
   ]
  },
  {
   "cell_type": "code",
   "execution_count": 25,
   "id": "d99de683",
   "metadata": {},
   "outputs": [],
   "source": [
    "# Convert boolean target to binary\n",
    "Crime_Variables['MVT'] = Crime_Variables['MVT'].astype(int)  "
   ]
  },
  {
   "cell_type": "markdown",
   "id": "595e69b8",
   "metadata": {},
   "source": [
    "## Part 3: The Model"
   ]
  },
  {
   "cell_type": "markdown",
   "id": "72016b8f",
   "metadata": {},
   "source": [
    "With a clean dataset prepared, the next step is to build and evaluate a predictive model. "
   ]
  },
  {
   "cell_type": "code",
   "execution_count": 26,
   "id": "23cf6a33",
   "metadata": {},
   "outputs": [],
   "source": [
    "# Split the data into features (X) and target (y)\n",
    "X = Crime_Variables.drop(columns=['MVT'])\n",
    "y = Crime_Variables['MVT']"
   ]
  },
  {
   "cell_type": "code",
   "execution_count": 27,
   "id": "f34521b5",
   "metadata": {},
   "outputs": [],
   "source": [
    "# Split into training and testing datasets\n",
    "X_train, X_test, y_train, y_test = train_test_split(X, y, test_size=0.2, random_state=42)"
   ]
  },
  {
   "cell_type": "code",
   "execution_count": 28,
   "id": "26f0bd16",
   "metadata": {},
   "outputs": [],
   "source": [
    "# Convert to DMatrix\n",
    "train_dmatrix = xgb.DMatrix(data=X_train, label=y_train)\n",
    "test_dmatrix = xgb.DMatrix(data=X_test, label=y_test)"
   ]
  },
  {
   "cell_type": "code",
   "execution_count": 29,
   "id": "399782dd",
   "metadata": {},
   "outputs": [],
   "source": [
    "# Define parameters for binary classification\n",
    "params = {\n",
    "    'objective': 'binary:logistic',  # Binary classification\n",
    "    'eval_metric': 'logloss',       # Log-loss\n",
    "    'eta': 0.2,                     # Learning rate\n",
    "    'max_depth': 4                 # Maximum tree depth\n",
    "}"
   ]
  },
  {
   "cell_type": "markdown",
   "id": "b5421dae",
   "metadata": {},
   "source": [
    "Our XGBoost model does need some parameters that we need to choose. \n",
    "\n",
    "1. \"objective: binary:logistic\" \n",
    ">a. We'll use logistic regression to output the probability of whether or not a motor vehicle theft is occuring. \n",
    "\n",
    "2. \"eval_metric: logloss\"\n",
    ">a. All Machine Learning algorithms need a way to define the distance between its predictions and the actual values it's trying to predict. The logloss evaluation metric is the standard for binary classification problems like ours, especially for an inbalanced data set like ours. \n",
    "    \n",
    " \n",
    "    \n",
    "3. \"eta\" 0.2     \n",
    ">a. Eta indicates the learning rate. A smaller learning rate (than the default of 0.3) means that we want our model to update weights more gradually, reducing the risk of overfitting which creates a more generalizable model \n",
    "    \n",
    "4. \"Max_depth: 4\" \n",
    ">a. XGBoost is ultimately a decision tree. Max_depth sets a limit on the number of splits a tree can go from root to deepest node. The default value for this parameter is 6. A smaller max_depth value decreases overfitting and attempts to restrict the massive consumption of memory invovled with XGBoost. "
   ]
  },
  {
   "cell_type": "code",
   "execution_count": 30,
   "id": "491ac1e0",
   "metadata": {},
   "outputs": [],
   "source": [
    "# Train the XGBoost model\n",
    "bst = xgb.train(params, train_dmatrix, num_boost_round=100)"
   ]
  },
  {
   "cell_type": "code",
   "execution_count": 31,
   "id": "b8b3bb6e",
   "metadata": {},
   "outputs": [],
   "source": [
    "# Make predictions (probabilities for the positive class)\n",
    "pred_probs = bst.predict(test_dmatrix)"
   ]
  },
  {
   "cell_type": "markdown",
   "id": "e36b43b7",
   "metadata": {},
   "source": [
    "Inspecting the distribution of predicted probabilities provides insight into model behavior and potential threshold selection. Sometimes the distribution will tell us some thing either interesting about the model itself or the data we are working with. "
   ]
  },
  {
   "cell_type": "code",
   "execution_count": 32,
   "id": "4d067453",
   "metadata": {},
   "outputs": [],
   "source": [
    "#Function that shows the distribution of a data set\n",
    "def show_distribution_sns(data, title=\"Data Distribution\"):\n",
    "    \"\"\"\n",
    "    Shows the distribution of data using a histogram and kernel density estimate.\n",
    "\n",
    "    Args:\n",
    "        data (list or numpy.ndarray): The data to be plotted.\n",
    "        title (str, optional): The title of the plot. Defaults to \"Data Distribution\".\n",
    "    \"\"\"\n",
    "    sns.displot(data, kde=True,  height=5, aspect=2)\n",
    "    plt.title(title)\n",
    "    plt.xlabel(\"Value\")\n",
    "    plt.ylabel(\"Density\")\n",
    "    plt.show()"
   ]
  },
  {
   "cell_type": "code",
   "execution_count": 33,
   "id": "dde4ccce",
   "metadata": {},
   "outputs": [
    {
     "data": {
      "image/png": "[encoded data removed]",
      "text/plain": [
       "<Figure size 720x360 with 1 Axes>"
      ]
     },
     "metadata": {
      "needs_background": "light"
     },
     "output_type": "display_data"
    }
   ],
   "source": [
    "show_distribution_sns(pred_probs, title = \"Density Plot of Car Jacking Probabilities\")"
   ]
  },
  {
   "cell_type": "markdown",
   "id": "28e8a8aa",
   "metadata": {},
   "source": [
    "I think this is an interesting distribution! There is one group of predictions that are clustered around 0 and then there is a second group of predictions (around the 0.1 - 0.4) area that has a higher distribution probability of car jacking. This could indicate that our data has a bimodal distribution-- two distinct groups of data (in this case car jackings and not car jackings) in one data set. This tells us a lot of good information. It tells us that our model is headed in the right direction and that our data can likely be used to predict the likelihood of crime incidents."
   ]
  },
  {
   "cell_type": "markdown",
   "id": "e9ae1a5f",
   "metadata": {},
   "source": [
    "This distribution may also tell us where to set a good threshold for identifying a car jacking. In practice, theshold selection depends on the relatvie cost of false positives and false negatives. For example, law enforcement may prefer a lower threshold to avoid potential incidents, even at the cost of additional false alarms. \n",
    "\n",
    "From our distribution, we can see that a good threshold to set may be 11% (or .11). This 11% may be where the distribution of active carjackings may occur. This threshold can be changed to accomodate for officer placement and resource allocation. Thresholds can be dynamically adjusted based on resource availability and proximity. "
   ]
  },
  {
   "cell_type": "code",
   "execution_count": 34,
   "id": "313a79d1",
   "metadata": {},
   "outputs": [],
   "source": [
    "# Convert probabilities to binary predictions\n",
    "threshold = 0.12\n",
    "preds = (pred_probs >= threshold).astype(int)"
   ]
  },
  {
   "cell_type": "code",
   "execution_count": 35,
   "id": "71d57ddf",
   "metadata": {},
   "outputs": [
    {
     "name": "stdout",
     "output_type": "stream",
     "text": [
      "Accuracy: 0.7639411411144008\n",
      "\n",
      "Classification Report:\n",
      "               precision    recall  f1-score   support\n",
      "\n",
      "           0       0.97      0.77      0.86     41080\n",
      "           1       0.23      0.74      0.35      3841\n",
      "\n",
      "    accuracy                           0.76     44921\n",
      "   macro avg       0.60      0.75      0.60     44921\n",
      "weighted avg       0.91      0.76      0.81     44921\n",
      "\n"
     ]
    }
   ],
   "source": [
    "# Evaluate the model\n",
    "print(\"Accuracy:\", accuracy_score(y_test, preds))\n",
    "print(\"\\nClassification Report:\\n\", classification_report(y_test, preds))"
   ]
  },
  {
   "cell_type": "markdown",
   "id": "93fa190b",
   "metadata": {},
   "source": [
    "## Part 4: Analysis and Next Steps"
   ]
  },
  {
   "cell_type": "markdown",
   "id": "36e09b4a",
   "metadata": {},
   "source": [
    "### Analysis"
   ]
  },
  {
   "cell_type": "markdown",
   "id": "ef3de572",
   "metadata": {},
   "source": [
    "When it comes to grading models there are multiple different metrics we can use that are shown above. \n",
    "\n",
    "Precision is a measure of what percent of our predicted car jackings were actually car jackings. With a score of 0.23 or 23%, that seems quite low. While it seems quite low, this is not the best metric for measuring our model's ability. In my opinion trying to predict things like car jackings you'll want to be overly cautious. In practice, having a large number of false alarms may be too costly. The model should also track how many actual car jackings take place that the model doesn't report. \n",
    "\n",
    "This is what recall tracks. With a recall score of 0.77, this indicates that 77% of actual car jackings were identified as such by the model. This is a good start for a first iteration of a model, but we'll want to apply more and more variables to add more predictive power to our model. \n",
    "\n",
    "F1 score is the another metric that's shown in the table above. F1 score is the harmonic mean between the precision and recall. Our F1 score is relatively low. However, this shouldn't worry us. F1 scores should be carefully interpreted in imbalanced datasets and aren't the best. 8% of our data set was Motor Vehicle Thefts (not very class-balanced). So we should focus on the Weighted-Average F1 score, which takes into account the imbalance between classes. A weighted-average F1 score of 0.81 is much better than 0.35 and a sign that our model is on the right path.  "
   ]
  },
  {
   "cell_type": "markdown",
   "id": "93f1fe75",
   "metadata": {},
   "source": [
    "### Next Steps"
   ]
  },
  {
   "cell_type": "markdown",
   "id": "ed8972c3",
   "metadata": {},
   "source": [
    "A future iteration of this project should include more exploratory data analysis. Looking at correlations between certain variables could help us to shed light on our dataset and better inform how we structure the model. \n",
    "\n",
    "In an attempt to improve the model, I ran a Hyperparameter tuning grid search. Unfortunately, this process takes a very long time and with more time and computing power it can be done. In future iterations, if I acquire a better computer this could add a fair amount of predictability to the model.  \n",
    "\n",
    "Our next steps should be to add in additional variables. Currently our only geographic variable was Ward. Chicago currently has 50 wards which may not be enough to adequately divide up the city into distinct geographic divisions. There are latitude and longitude information that we could add into the model that could help provide information about where certain crimes typically occur by combining these points with zip codes or clustering them together.  \n",
    "\n",
    "Similar to how we merged in a separate data frame about the start and end of nighttime in Chicago, adding in a data frame that had specific historical crime data about each zip code/street block would be extremely useful in predicting crime. Other demographic stats like average age or median household income of a zip code may be able to provide useful information to our model.  \n",
    "\n",
    "Once our model for car jacking is refined, we should apply the methodology used here to other crimes like arson, burglary, or homicide."
   ]
  },
  {
   "cell_type": "code",
   "execution_count": null,
   "id": "8495d0f2",
   "metadata": {},
   "outputs": [],
   "source": []
  }
 ],
 "metadata": {
  "kernelspec": {
   "display_name": "Python 3",
   "language": "python",
   "name": "python3"
  },
  "language_info": {
   "codemirror_mode": {
    "name": "ipython",
    "version": 3
   },
   "file_extension": ".py",
   "mimetype": "text/x-python",
   "name": "python",
   "nbconvert_exporter": "python",
   "pygments_lexer": "ipython3",
   "version": "3.8.5"
  }
 },
 "nbformat": 4,
 "nbformat_minor": 5
}
